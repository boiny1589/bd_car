{
 "cells": [
  {
   "cell_type": "code",
   "execution_count": 9,
   "id": "44dde956-b12f-4b34-bfe6-f51279dc81de",
   "metadata": {},
   "outputs": [],
   "source": [
    "from vehicle import MecanumBase"
   ]
  },
  {
   "cell_type": "code",
   "execution_count": 30,
   "id": "09442112-1778-44a8-8786-0599d56d6ae3",
   "metadata": {},
   "outputs": [],
   "source": [
    "# 定义车"
   ]
  },
  {
   "cell_type": "code",
   "execution_count": 10,
   "id": "a9ea19ef-619c-4382-9a0f-b2361b1c86fd",
   "metadata": {},
   "outputs": [
    {
     "name": "stdout",
     "output_type": "stream",
     "text": [
      "start\n"
     ]
    }
   ],
   "source": [
    "car = MecanumBase()"
   ]
  },
  {
   "cell_type": "code",
   "execution_count": 12,
   "id": "6b8cc21d-a634-426f-a437-1ae7b7ab3ee6",
   "metadata": {},
   "outputs": [],
   "source": [
    "car.beep()"
   ]
  },
  {
   "cell_type": "code",
   "execution_count": null,
   "id": "20be35d1-bf89-4cef-a0a6-bc93f56fc7e7",
   "metadata": {},
   "outputs": [],
   "source": []
  }
 ],
 "metadata": {
  "kernelspec": {
   "display_name": "Python 3 (ipykernel)",
   "language": "python",
   "name": "python3"
  },
  "language_info": {
   "codemirror_mode": {
    "name": "ipython",
    "version": 3
   },
   "file_extension": ".py",
   "mimetype": "text/x-python",
   "name": "python",
   "nbconvert_exporter": "python",
   "pygments_lexer": "ipython3",
   "version": "3.8.10"
  }
 },
 "nbformat": 4,
 "nbformat_minor": 5
}
